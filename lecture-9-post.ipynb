{
  "nbformat": 4,
  "nbformat_minor": 0,
  "metadata": {
    "colab": {
      "name": "lecture-9.ipynb",
      "version": "0.3.2",
      "provenance": []
    },
    "kernelspec": {
      "display_name": "Python 3",
      "language": "python",
      "name": "python3"
    }
  },
  "cells": [
    {
      "metadata": {
        "id": "oXsXuEBJCvpd",
        "colab_type": "code",
        "colab": {
          "base_uri": "https://localhost:8080/",
          "height": 482
        },
        "outputId": "9ed5d589-4693-44c9-83b0-cd0dce54dcac"
      },
      "cell_type": "code",
      "source": [
        "!pip install seaborn --upgrade"
      ],
      "execution_count": 1,
      "outputs": [
        {
          "output_type": "stream",
          "text": [
            "Collecting seaborn\n",
            "\u001b[?25l  Downloading https://files.pythonhosted.org/packages/a8/76/220ba4420459d9c4c9c9587c6ce607bf56c25b3d3d2de62056efe482dadc/seaborn-0.9.0-py3-none-any.whl (208kB)\n",
            "\r\u001b[K    4% |█▋                              | 10kB 15.4MB/s eta 0:00:01\r\u001b[K    9% |███▏                            | 20kB 3.2MB/s eta 0:00:01\r\u001b[K    14% |████▊                           | 30kB 4.7MB/s eta 0:00:01\r\u001b[K    19% |██████▎                         | 40kB 3.0MB/s eta 0:00:01\r\u001b[K    24% |███████▉                        | 51kB 3.7MB/s eta 0:00:01\r\u001b[K    29% |█████████▌                      | 61kB 4.4MB/s eta 0:00:01\r\u001b[K    34% |███████████                     | 71kB 5.1MB/s eta 0:00:01\r\u001b[K    39% |████████████▋                   | 81kB 5.7MB/s eta 0:00:01\r\u001b[K    44% |██████████████▏                 | 92kB 6.3MB/s eta 0:00:01\r\u001b[K    49% |███████████████▊                | 102kB 4.9MB/s eta 0:00:01\r\u001b[K    54% |█████████████████▎              | 112kB 5.0MB/s eta 0:00:01\r\u001b[K    59% |███████████████████             | 122kB 6.8MB/s eta 0:00:01\r\u001b[K    63% |████████████████████▌           | 133kB 6.8MB/s eta 0:00:01\r\u001b[K    68% |██████████████████████          | 143kB 12.4MB/s eta 0:00:01\r\u001b[K    73% |███████████████████████▋        | 153kB 12.4MB/s eta 0:00:01\r\u001b[K    78% |█████████████████████████▏      | 163kB 12.4MB/s eta 0:00:01\r\u001b[K    83% |██████████████████████████▊     | 174kB 12.2MB/s eta 0:00:01\r\u001b[K    88% |████████████████████████████▍   | 184kB 12.2MB/s eta 0:00:01\r\u001b[K    93% |██████████████████████████████  | 194kB 12.3MB/s eta 0:00:01\r\u001b[K    98% |███████████████████████████████▌| 204kB 41.0MB/s eta 0:00:01\r\u001b[K    100% |████████████████████████████████| 215kB 24.0MB/s \n",
            "\u001b[?25hRequirement already satisfied, skipping upgrade: matplotlib>=1.4.3 in /usr/local/lib/python3.6/dist-packages (from seaborn) (3.0.2)\n",
            "Requirement already satisfied, skipping upgrade: scipy>=0.14.0 in /usr/local/lib/python3.6/dist-packages (from seaborn) (1.1.0)\n",
            "Requirement already satisfied, skipping upgrade: numpy>=1.9.3 in /usr/local/lib/python3.6/dist-packages (from seaborn) (1.14.6)\n",
            "Requirement already satisfied, skipping upgrade: pandas>=0.15.2 in /usr/local/lib/python3.6/dist-packages (from seaborn) (0.22.0)\n",
            "Requirement already satisfied, skipping upgrade: kiwisolver>=1.0.1 in /usr/local/lib/python3.6/dist-packages (from matplotlib>=1.4.3->seaborn) (1.0.1)\n",
            "Requirement already satisfied, skipping upgrade: python-dateutil>=2.1 in /usr/local/lib/python3.6/dist-packages (from matplotlib>=1.4.3->seaborn) (2.5.3)\n",
            "Requirement already satisfied, skipping upgrade: pyparsing!=2.0.4,!=2.1.2,!=2.1.6,>=2.0.1 in /usr/local/lib/python3.6/dist-packages (from matplotlib>=1.4.3->seaborn) (2.3.1)\n",
            "Requirement already satisfied, skipping upgrade: cycler>=0.10 in /usr/local/lib/python3.6/dist-packages (from matplotlib>=1.4.3->seaborn) (0.10.0)\n",
            "Requirement already satisfied, skipping upgrade: pytz>=2011k in /usr/local/lib/python3.6/dist-packages (from pandas>=0.15.2->seaborn) (2018.9)\n",
            "Requirement already satisfied, skipping upgrade: setuptools in /usr/local/lib/python3.6/dist-packages (from kiwisolver>=1.0.1->matplotlib>=1.4.3->seaborn) (40.7.1)\n",
            "Requirement already satisfied, skipping upgrade: six>=1.5 in /usr/local/lib/python3.6/dist-packages (from python-dateutil>=2.1->matplotlib>=1.4.3->seaborn) (1.11.0)\n",
            "Installing collected packages: seaborn\n",
            "  Found existing installation: seaborn 0.7.1\n",
            "    Uninstalling seaborn-0.7.1:\n",
            "      Successfully uninstalled seaborn-0.7.1\n",
            "Successfully installed seaborn-0.9.0\n"
          ],
          "name": "stdout"
        },
        {
          "output_type": "display_data",
          "data": {
            "application/vnd.colab-display-data+json": {
              "pip_warning": {
                "packages": [
                  "seaborn"
                ]
              }
            }
          },
          "metadata": {
            "tags": []
          }
        }
      ]
    },
    {
      "metadata": {
        "id": "WzjDnp1yCvph",
        "colab_type": "text"
      },
      "cell_type": "markdown",
      "source": [
        "# Lecture 9: Calculations with probability distributions\n",
        "\n",
        "Here we'll look at simple computations with probability distributions and show an example of the [law of large numbers](https://en.wikipedia.org/wiki/Law_of_large_numbers).\n",
        "\n",
        "Let's start with a random variable $X$. We'll assume that $X$ can only take on some discrete set of values, $X \\in \\left[v_1, v_2, \\ldots, v_n\\right]$. The probability that $X$ has any value $v_i$ is given by $P(v_i)$. $P$ is called the probability distribution, and it must be normalized so that\n",
        "\n",
        "$$\\sum_{i=1}^{n} P(v_i) = 1\\,.$$\n",
        "\n",
        "Sometimes, when the meaning is clear, we'll simply write the sum over all possible values $i$ as $\\sum_i$, without specifying the starting and ending indices. \n",
        "\n",
        "If we want to find the average of some function of the random variable $f(X)$, we do it by averaging $f(X)$ over the probability distribution,\n",
        "\n",
        "$$\\left\\langle f(X)\\right\\rangle = \\sum_i P(v_i)\\, f(v_i)\\,.$$\n",
        "\n",
        "The angular brackets $\\left\\langle \\cdot\\right\\rangle$ denote an average. Sometimes statisticians use the notation $E[\\cdot]$ to mean the same thing.\n",
        "\n",
        "### Example: a 6-sided die (D6)\n",
        "\n",
        "A simple example of a random number is the number that appears from a D6 roll. Let's define such an object in Python."
      ]
    },
    {
      "metadata": {
        "id": "PuerxeVCCvpi",
        "colab_type": "code",
        "colab": {}
      },
      "cell_type": "code",
      "source": [
        "import numpy as np\n",
        "import numpy.random as rng\n",
        "import seaborn as sns\n",
        "import matplotlib.pyplot as plt\n",
        "\n",
        "# Now, let's define the D6 -- what values can it take?\n",
        "d6_values = np.array([1, 2, 3, 4, 5, 6])\n",
        "\n",
        "# ...and what is the probability of getting each of them?\n",
        "d6_probs = np.array([1/6, 1/6, 1/6, 1/6, 1/6, 1/6])"
      ],
      "execution_count": 0,
      "outputs": []
    },
    {
      "metadata": {
        "id": "8K79ZvaNCvpm",
        "colab_type": "text"
      },
      "cell_type": "markdown",
      "source": [
        "What is the expected (average) value that we would get when we roll the D6? Let's write a function to calculate it. Let's also check the variance."
      ]
    },
    {
      "metadata": {
        "id": "FjFMJ2eBCvpo",
        "colab_type": "code",
        "colab": {
          "base_uri": "https://localhost:8080/",
          "height": 35
        },
        "outputId": "fcc49f29-0581-4be5-fbd9-7bf3fdd33626"
      },
      "cell_type": "code",
      "source": [
        "def get_avg(f):\n",
        "    \"\"\" Returns the average of a function f over rolls of a 6-sided die\"\"\"\n",
        "    return np.sum( f(d6_values) * d6_probs )\n",
        "  \n",
        "def f(X):\n",
        "  return X\n",
        "\n",
        "get_avg(f)"
      ],
      "execution_count": 4,
      "outputs": [
        {
          "output_type": "execute_result",
          "data": {
            "text/plain": [
              "3.5"
            ]
          },
          "metadata": {
            "tags": []
          },
          "execution_count": 4
        }
      ]
    },
    {
      "metadata": {
        "id": "G7zOHTYACvpr",
        "colab_type": "code",
        "colab": {
          "base_uri": "https://localhost:8080/",
          "height": 1661
        },
        "outputId": "4bae73a4-97b7-40dd-ba22-8ad33bfb3e01"
      },
      "cell_type": "code",
      "source": [
        "help(np.sum)"
      ],
      "execution_count": 3,
      "outputs": [
        {
          "output_type": "stream",
          "text": [
            "Help on function sum in module numpy.core.fromnumeric:\n",
            "\n",
            "sum(a, axis=None, dtype=None, out=None, keepdims=<class 'numpy._globals._NoValue'>)\n",
            "    Sum of array elements over a given axis.\n",
            "    \n",
            "    Parameters\n",
            "    ----------\n",
            "    a : array_like\n",
            "        Elements to sum.\n",
            "    axis : None or int or tuple of ints, optional\n",
            "        Axis or axes along which a sum is performed.  The default,\n",
            "        axis=None, will sum all of the elements of the input array.  If\n",
            "        axis is negative it counts from the last to the first axis.\n",
            "    \n",
            "        .. versionadded:: 1.7.0\n",
            "    \n",
            "        If axis is a tuple of ints, a sum is performed on all of the axes\n",
            "        specified in the tuple instead of a single axis or all the axes as\n",
            "        before.\n",
            "    dtype : dtype, optional\n",
            "        The type of the returned array and of the accumulator in which the\n",
            "        elements are summed.  The dtype of `a` is used by default unless `a`\n",
            "        has an integer dtype of less precision than the default platform\n",
            "        integer.  In that case, if `a` is signed then the platform integer\n",
            "        is used while if `a` is unsigned then an unsigned integer of the\n",
            "        same precision as the platform integer is used.\n",
            "    out : ndarray, optional\n",
            "        Alternative output array in which to place the result. It must have\n",
            "        the same shape as the expected output, but the type of the output\n",
            "        values will be cast if necessary.\n",
            "    keepdims : bool, optional\n",
            "        If this is set to True, the axes which are reduced are left\n",
            "        in the result as dimensions with size one. With this option,\n",
            "        the result will broadcast correctly against the input array.\n",
            "    \n",
            "        If the default value is passed, then `keepdims` will not be\n",
            "        passed through to the `sum` method of sub-classes of\n",
            "        `ndarray`, however any non-default value will be.  If the\n",
            "        sub-classes `sum` method does not implement `keepdims` any\n",
            "        exceptions will be raised.\n",
            "    \n",
            "    Returns\n",
            "    -------\n",
            "    sum_along_axis : ndarray\n",
            "        An array with the same shape as `a`, with the specified\n",
            "        axis removed.   If `a` is a 0-d array, or if `axis` is None, a scalar\n",
            "        is returned.  If an output array is specified, a reference to\n",
            "        `out` is returned.\n",
            "    \n",
            "    See Also\n",
            "    --------\n",
            "    ndarray.sum : Equivalent method.\n",
            "    \n",
            "    cumsum : Cumulative sum of array elements.\n",
            "    \n",
            "    trapz : Integration of array values using the composite trapezoidal rule.\n",
            "    \n",
            "    mean, average\n",
            "    \n",
            "    Notes\n",
            "    -----\n",
            "    Arithmetic is modular when using integer types, and no error is\n",
            "    raised on overflow.\n",
            "    \n",
            "    The sum of an empty array is the neutral element 0:\n",
            "    \n",
            "    >>> np.sum([])\n",
            "    0.0\n",
            "    \n",
            "    Examples\n",
            "    --------\n",
            "    >>> np.sum([0.5, 1.5])\n",
            "    2.0\n",
            "    >>> np.sum([0.5, 0.7, 0.2, 1.5], dtype=np.int32)\n",
            "    1\n",
            "    >>> np.sum([[0, 1], [0, 5]])\n",
            "    6\n",
            "    >>> np.sum([[0, 1], [0, 5]], axis=0)\n",
            "    array([0, 6])\n",
            "    >>> np.sum([[0, 1], [0, 5]], axis=1)\n",
            "    array([1, 5])\n",
            "    \n",
            "    If the accumulator is too small, overflow occurs:\n",
            "    \n",
            "    >>> np.ones(128, dtype=np.int8).sum(dtype=np.int8)\n",
            "    -128\n",
            "\n"
          ],
          "name": "stdout"
        }
      ]
    },
    {
      "metadata": {
        "id": "eMRjgNHaCvpw",
        "colab_type": "code",
        "colab": {}
      },
      "cell_type": "code",
      "source": [
        "\n",
        "\n",
        "\n",
        "\n",
        "\n",
        "\n",
        "\n",
        "\n",
        "\n",
        "\n",
        "\n",
        "\n",
        "\n",
        "\n",
        "\n",
        "\n",
        "\n",
        "\n",
        "\n",
        "\n",
        "\n",
        "\n"
      ],
      "execution_count": 0,
      "outputs": []
    },
    {
      "metadata": {
        "id": "Z0xZweUoCvp0",
        "colab_type": "text"
      },
      "cell_type": "markdown",
      "source": [
        "### Exploring finite sampling\n",
        "\n",
        "What do we expect to get if we roll the D6 a finite number of times? The average of our rolls will be distributed around the true average, but with some *noise*. As we saw earlier, the magnitude of the noise should scale like $1/\\sqrt{N}$, where $N$ is the number of samples (rolls). Let's check this numerically. First, we'll write a function that rolls the die, then we'll use that to generate random rolls and plot the results."
      ]
    },
    {
      "metadata": {
        "id": "nCLpMYuuCvp1",
        "colab_type": "code",
        "colab": {}
      },
      "cell_type": "code",
      "source": [
        "# Let's write a function to roll the die\n",
        "\n",
        "def roll_d6(n_times=1):\n",
        "    \"\"\"Return n_times rolls of a 6-sided die\"\"\"\n",
        "    return np.random.choice(d6_values, size=n_times, p=d6_probs)"
      ],
      "execution_count": 0,
      "outputs": []
    },
    {
      "metadata": {
        "id": "QLSQhBVaCvp5",
        "colab_type": "code",
        "colab": {}
      },
      "cell_type": "code",
      "source": [
        "help(np.random.choice)"
      ],
      "execution_count": 0,
      "outputs": []
    },
    {
      "metadata": {
        "id": "nrL4JCSyCvp8",
        "colab_type": "code",
        "colab": {
          "base_uri": "https://localhost:8080/",
          "height": 54
        },
        "outputId": "9d66d6f7-1272-473a-f181-5361a6fd9580"
      },
      "cell_type": "code",
      "source": [
        "# The expected values\n",
        "\n",
        "def func(X):\n",
        "    return X\n",
        "d6_mean = get_avg(func)\n",
        "\n",
        "def func(X):\n",
        "    return X**2\n",
        "d6_var = get_avg(func) - d6_mean**2\n",
        "\n",
        "\n",
        "# Let's roll the D6 1000 times\n",
        "\n",
        "roll_1000 = roll_d6(1000)\n",
        "\n",
        "print('True mean: %.4f, sample mean: %.4f' % (d6_mean, np.mean(roll_1000)))\n",
        "print('True variance: %.4f, sample variance: %.4f' % (d6_var, np.var(roll_1000)))"
      ],
      "execution_count": 7,
      "outputs": [
        {
          "output_type": "stream",
          "text": [
            "True mean: 3.5000, sample mean: 3.5450\n",
            "True variance: 2.9167, sample variance: 2.9460\n"
          ],
          "name": "stdout"
        }
      ]
    },
    {
      "metadata": {
        "id": "LX1dAW3FCvqA",
        "colab_type": "code",
        "colab": {}
      },
      "cell_type": "code",
      "source": [
        "\n",
        "\n",
        "\n",
        "\n",
        "\n",
        "\n",
        "\n",
        "\n",
        "\n",
        "\n",
        "\n",
        "\n",
        "\n",
        "\n",
        "\n",
        "\n",
        "\n",
        "\n",
        "\n",
        "\n",
        "\n",
        "\n"
      ],
      "execution_count": 0,
      "outputs": []
    },
    {
      "metadata": {
        "id": "xA1dgUe7CvqD",
        "colab_type": "text"
      },
      "cell_type": "markdown",
      "source": [
        "**Exercise:** Let's make a plot to observe convergence to the mean. Test different values for the number of rolls. What happens as the number of rolls increases? \n",
        "\n",
        "Based on our prior calculations, I claim that the average value over $N$ rolls will be centered around the true average, with a standard deviation that is equal to the standard deviation of a single roll, divided by $\\sqrt{N}$. Does this describe your results?"
      ]
    },
    {
      "metadata": {
        "id": "7Wpwh7CvCvqE",
        "colab_type": "code",
        "colab": {
          "base_uri": "https://localhost:8080/",
          "height": 390
        },
        "outputId": "dd5c11ef-9d9b-4970-cf3e-a68691f19ce0"
      },
      "cell_type": "code",
      "source": [
        "# First, define the Gaussian distribution\n",
        "\n",
        "def gaussian(x, mu, sigma):\n",
        "    return np.exp( -(x-mu)**2 /( 2 * (sigma**2) ) ) / np.sqrt(2 * np.pi * (sigma**2))\n",
        "\n",
        "\n",
        "# Now, roll the die many times and get the average over each set of rolls\n",
        "\n",
        "n_rolls   = 1000\n",
        "n_repeats = 100000\n",
        "\n",
        "avgs = []\n",
        "for i in range(n_repeats):\n",
        "    avgs.append(np.mean(roll_d6(n_rolls)))\n",
        "\n",
        "    \n",
        "# Plot the histogram of the role values, together with expectations\n",
        " \n",
        "mu    = d6_mean\n",
        "sigma = np.sqrt(d6_var / n_rolls)\n",
        "dx    = 6*sigma/1000\n",
        "x_vals = np.arange(mu - 3*sigma, mu + 3*sigma + dx, dx)\n",
        "y_vals = gaussian(x_vals, mu, sigma)\n",
        "\n",
        "dims = 6\n",
        "fig, ax = plt.subplots(figsize=(dims, dims))\n",
        "sns.distplot(avgs, ax=ax, kde=False, norm_hist=True)\n",
        "sns.lineplot(x_vals, y_vals, label='Theory')\n",
        "plt.title(\"Convergence to the mean\");"
      ],
      "execution_count": 12,
      "outputs": [
        {
          "output_type": "display_data",
          "data": {
            "image/png": "[encoded data removed]",
            "text/plain": [
              "<Figure size 432x432 with 1 Axes>"
            ]
          },
          "metadata": {
            "tags": []
          }
        }
      ]
    },
    {
      "metadata": {
        "id": "LsGU52CaSyUo",
        "colab_type": "code",
        "colab": {}
      },
      "cell_type": "code",
      "source": [
        ""
      ],
      "execution_count": 0,
      "outputs": []
    }
  ]
}